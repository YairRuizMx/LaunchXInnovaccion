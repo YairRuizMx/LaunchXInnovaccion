{
 "cells": [
  {
   "cell_type": "markdown",
   "metadata": {},
   "source": [
    "# Ejercicio 1 y 2: \n",
    "Creación de un bucle \"while\" y un ciclo \"For\""
   ]
  },
  {
   "cell_type": "code",
   "execution_count": 3,
   "metadata": {},
   "outputs": [
    {
     "name": "stdout",
     "output_type": "stream",
     "text": [
      "Planetas ingresados: \n",
      "Nombre: s\n",
      "Nombre: s\n",
      "Nombre: s\n",
      "Nombre: s\n",
      "Nombre: s\n"
     ]
    }
   ],
   "source": [
    "newPlanet = ''\n",
    "planets = []\n",
    "\n",
    "while(newPlanet.lower() != 'done'): #No se me había ocurrido el lower :o\n",
    "    if newPlanet:\n",
    "        planets.append(newPlanet)\n",
    "    newPlanet = input('Ingresa el nombre de un planeta o \"Done\" para terminar')\n",
    "\n",
    "print('Planetas ingresados: ')\n",
    "\n",
    "for planet in planets:\n",
    "    print(f'Nombre: {planet}')\n"
   ]
  }
 ],
 "metadata": {
  "interpreter": {
   "hash": "14cd60ff961363a5ec117233f091ab3e1a0744f48fef698a8c122af614ed9190"
  },
  "kernelspec": {
   "display_name": "Python 3.10.2 64-bit",
   "language": "python",
   "name": "python3"
  },
  "language_info": {
   "codemirror_mode": {
    "name": "ipython",
    "version": 3
   },
   "file_extension": ".py",
   "mimetype": "text/x-python",
   "name": "python",
   "nbconvert_exporter": "python",
   "pygments_lexer": "ipython3",
   "version": "3.10.2"
  },
  "orig_nbformat": 4
 },
 "nbformat": 4,
 "nbformat_minor": 2
}
