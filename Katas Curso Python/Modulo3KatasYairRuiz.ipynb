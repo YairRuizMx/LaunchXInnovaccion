{
 "cells": [
  {
   "cell_type": "markdown",
   "metadata": {},
   "source": [
    "# Ejercicio 1\n",
    "¡Un asteroide se acerca!"
   ]
  },
  {
   "cell_type": "code",
   "execution_count": 1,
   "metadata": {},
   "outputs": [
    {
     "name": "stdout",
     "output_type": "stream",
     "text": [
      "¡ADVERTENCIA! Ahí viene el asteroide.\n"
     ]
    }
   ],
   "source": [
    "velocidadDelAsteroide = 49 # En km/s\n",
    "\n",
    "if velocidadDelAsteroide > 25:\n",
    "    print(\"¡ADVERTENCIA! Ahí viene el asteroide.\")\n",
    "else:\n",
    "    print(\"No pasa nada oiga.\")\n"
   ]
  },
  {
   "cell_type": "markdown",
   "metadata": {},
   "source": [
    "# Ejercicio 2\n",
    "Queremos ver las lucesitas del asteroide."
   ]
  },
  {
   "cell_type": "code",
   "execution_count": 2,
   "metadata": {},
   "outputs": [
    {
     "name": "stdout",
     "output_type": "stream",
     "text": [
      "Será otro día. :(\n"
     ]
    }
   ],
   "source": [
    "velocidadDelAsteroide = 19 # En km/s\n",
    "\n",
    "if velocidadDelAsteroide > 20:\n",
    "    print(\"¡Miren al cielooo!\")\n",
    "elif velocidadDelAsteroide == 20:\n",
    "    print(\"¡Miren al cielooo!\")\n",
    "else:\n",
    "    print (\"Será otro día. :(\")"
   ]
  },
  {
   "cell_type": "markdown",
   "metadata": {},
   "source": [
    "# Ejercicio 3\n",
    "Condicionales y lógicos. Sistema completo.\n"
   ]
  },
  {
   "cell_type": "code",
   "execution_count": 8,
   "metadata": {},
   "outputs": [
    {
     "name": "stdout",
     "output_type": "stream",
     "text": [
      "¡Miren al cielo! Un Gran Asteroide nos ilumina.\n"
     ]
    }
   ],
   "source": [
    "velocidadDelAsteroide = int(input(\"Ingresa la velocidad del asteroide: \"))\n",
    "tamanioDelAsteroide = int(input(\"Ingrese el tamaño del asteroide: \"))\n",
    "\n",
    "if tamanioDelAsteroide < 25 and velocidadDelAsteroide > 25:\n",
    "    print(\"¡ADVERTENCIA! Viene un pequeño asteroide muy rápido.\")\n",
    "elif tamanioDelAsteroide < 25 and velocidadDelAsteroide >= 20 and velocidadDelAsteroide < 25:\n",
    "    print(\"¡Miren al cielo! Un Pequeño Asteroide nos ilumina.\")\n",
    "elif velocidadDelAsteroide > 25 and tamanioDelAsteroide > 25 and tamanioDelAsteroide < 1000:\n",
    "    print(\"¡ADVERTENCIA! Viene un asteroide muy PEGRILOSOOO.\")\n",
    "elif velocidadDelAsteroide >= 20 and velocidadDelAsteroide < 25 and tamanioDelAsteroide > 25 and tamanioDelAsteroide < 1000:\n",
    "    print(\"¡Miren al cielo! Un Gran Asteroide nos ilumina.\")"
   ]
  }
 ],
 "metadata": {
  "interpreter": {
   "hash": "14cd60ff961363a5ec117233f091ab3e1a0744f48fef698a8c122af614ed9190"
  },
  "kernelspec": {
   "display_name": "Python 3.10.2 64-bit",
   "language": "python",
   "name": "python3"
  },
  "language_info": {
   "codemirror_mode": {
    "name": "ipython",
    "version": 3
   },
   "file_extension": ".py",
   "mimetype": "text/x-python",
   "name": "python",
   "nbconvert_exporter": "python",
   "pygments_lexer": "ipython3",
   "version": "3.10.2"
  },
  "orig_nbformat": 4
 },
 "nbformat": 4,
 "nbformat_minor": 2
}
