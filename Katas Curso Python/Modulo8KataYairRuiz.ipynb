{
 "cells": [
  {
   "cell_type": "markdown",
   "metadata": {},
   "source": [
    "\n",
    "# Ejercicio 1: Creación de diccionarios de Python\n"
   ]
  },
  {
   "cell_type": "code",
   "execution_count": 7,
   "metadata": {},
   "outputs": [
    {
     "name": "stdout",
     "output_type": "stream",
     "text": [
      "Planeta consultado: Mars\n",
      "Lunas: 2\n",
      "Planeta consultado: Mars\n",
      "Circunferencia polar: 6752\n"
     ]
    }
   ],
   "source": [
    "planet = {\n",
    "    'name' : 'Mars',\n",
    "    'moons' : 2\n",
    "}\n",
    "\n",
    "print(f\"\"\"Planeta consultado: {planet.get('name')}\n",
    "Lunas: {planet['moons']}\"\"\")\n",
    "\n",
    "planet['circunferencia (km)'] = {\n",
    "    'polar': 6752,\n",
    "    'equatorial': 6792\n",
    "}\n",
    "\n",
    "print(f\"\"\"Planeta consultado: {planet.get('name')}\n",
    "Circunferencia polar: {planet['circunferencia (km)']['polar']}\"\"\")\n"
   ]
  },
  {
   "cell_type": "markdown",
   "metadata": {},
   "source": [
    "# Ejercicio 2: Programación dinámica con diccionarios"
   ]
  },
  {
   "cell_type": "code",
   "execution_count": 9,
   "metadata": {},
   "outputs": [
    {
     "name": "stdout",
     "output_type": "stream",
     "text": [
      "Promedio de lunas por planeta: 17.833333333333332\n"
     ]
    }
   ],
   "source": [
    "# Planets and moons\n",
    "\n",
    "planet_moons = {\n",
    "    'mercury': 0,\n",
    "    'venus': 0,\n",
    "    'earth': 1,\n",
    "    'mars': 2,\n",
    "    'jupiter': 79,\n",
    "    'saturn': 82,\n",
    "    'uranus': 27,\n",
    "    'neptune': 14,\n",
    "    'pluto': 5,\n",
    "    'haumea': 2,\n",
    "    'makemake': 1,\n",
    "    'eris': 1\n",
    "}\n",
    "\n",
    "moons = planet_moons.values()\n",
    "planets = len(planet_moons.keys())\n",
    "totalMoons = 0\n",
    "\n",
    "for moon in moons:\n",
    "    totalMoons += moon\n",
    "\n",
    "print(f'Promedio de lunas por planeta: {totalMoons/planets}')"
   ]
  }
 ],
 "metadata": {
  "interpreter": {
   "hash": "14cd60ff961363a5ec117233f091ab3e1a0744f48fef698a8c122af614ed9190"
  },
  "kernelspec": {
   "display_name": "Python 3.10.2 64-bit",
   "language": "python",
   "name": "python3"
  },
  "language_info": {
   "codemirror_mode": {
    "name": "ipython",
    "version": 3
   },
   "file_extension": ".py",
   "mimetype": "text/x-python",
   "name": "python",
   "nbconvert_exporter": "python",
   "pygments_lexer": "ipython3",
   "version": "3.10.2"
  },
  "orig_nbformat": 4
 },
 "nbformat": 4,
 "nbformat_minor": 2
}
