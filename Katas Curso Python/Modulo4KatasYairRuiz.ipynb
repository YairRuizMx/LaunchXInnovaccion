{
 "cells": [
  {
   "cell_type": "markdown",
   "metadata": {},
   "source": [
    "# Ejercicio 1: Transformar cadenas."
   ]
  },
  {
   "cell_type": "code",
   "execution_count": 6,
   "metadata": {},
   "outputs": [
    {
     "name": "stdout",
     "output_type": "stream",
     "text": [
      "['Interesting facts about the Moon', \" The Moon is Earth's only satellite\", ' There are several interesting facts about the Moon and how it affects life here on Earth', ' \\nOn average, the Moon moves 4cm away from the Earth every year', ' This yearly drift is not significant enough to cause immediate effects on Earth', ' The highest daylight temperature of the Moon is 127 C', '']\n",
      " \n",
      "On average, the Moon moves 4cm away from the Earth every year\n",
      " The highest daylight temperature of the Moon is 127 Celsius\n"
     ]
    }
   ],
   "source": [
    "text = \"\"\"Interesting facts about the Moon. The Moon is Earth's only satellite. There are several interesting facts about the Moon and how it affects life here on Earth. \n",
    "On average, the Moon moves 4cm away from the Earth every year. This yearly drift is not significant enough to cause immediate effects on Earth. The highest daylight temperature of the Moon is 127 C.\"\"\"\n",
    "\n",
    "# Separamos el código.\n",
    "textSeparado = text.split('.')\n",
    "print(textSeparado)\n",
    "\n",
    "palabrasPista = ['average','temperature','distance']\n",
    "\n",
    "# Imprimimos las oraciones que tengan las palabras clave.\n",
    "for oracion in textSeparado:\n",
    "    for palabraPista in palabrasPista:\n",
    "        if palabraPista in oracion:\n",
    "            print(oracion.replace('C','Celsius'))\n",
    "            break"
   ]
  },
  {
   "cell_type": "markdown",
   "metadata": {},
   "source": [
    "# Ejercicio 2: Formateando cadenas"
   ]
  },
  {
   "cell_type": "code",
   "execution_count": 13,
   "metadata": {},
   "outputs": [
    {
     "name": "stdout",
     "output_type": "stream",
     "text": [
      "Gravity on Earth and Moon\n",
      "-------------------------------------------------\n",
      "         Planet name: Earth\n",
      "         Gravity: 1.6199999999999999\n",
      "         Name: Moon\n",
      "Gravity on Earth and Moon\n",
      "-------------------------------------------------\n",
      "         Planet name: Earth\n",
      "         Gravity: 1.6199999999999999\n",
      "         Name: Moon\n",
      "Gravity on Ganimedes and Marte\n",
      "-------------------------------------------------\n",
      "         Planet name: Ganimedes\n",
      "         Gravity: 1.6199999999999999\n",
      "         Name: Marte\n"
     ]
    }
   ],
   "source": [
    "# MI SOLUCION\n",
    "name = \"Moon\"\n",
    "gravity = 0.00162 # in kms\n",
    "planet = \"Earth\"\n",
    "\n",
    "titulo = f'Gravity on {planet} and {name}'\n",
    "\n",
    "text = f\"\"\"\\n-------------------------------------------------\n",
    "         Planet name: {planet}\n",
    "         Gravity: {gravity*1000}\n",
    "         Name: {name}\"\"\"\n",
    "\n",
    "plantilla = titulo + text\n",
    "print(plantilla)\n",
    "\n",
    "# Nuevos datos\n",
    "name = \"Marte\"\n",
    "gravity = 0.00162 # in kms\n",
    "planet = \"Ganimedes\"\n",
    "\n",
    "print(plantilla)\n",
    "\n",
    "newText = 'Gravity on {planet} and {name}' + \"\"\"\\n-------------------------------------------------\n",
    "         Planet name: {planet}\n",
    "         Gravity: {gravity}\n",
    "         Name: {name}\"\"\"\n",
    "\n",
    "print(newText.format(planet=planet,gravity=gravity*1000,name=name))\n"
   ]
  },
  {
   "cell_type": "code",
   "execution_count": 15,
   "metadata": {},
   "outputs": [
    {
     "name": "stdout",
     "output_type": "stream",
     "text": [
      "-------------------------------------------------------------------------------- #Multiplicar la salida de cádenas.\n",
      "Nombre del planeta: Marte  \n",
      "Gravedad en Ganímedes: 1.4300000000000002 m/s2  #f' permite operaciones.\n",
      "\n",
      "-------------------------------------------------------------------------------- #Multiplicar la salida de cádenas.\n",
      "Nombre del planeta: Marte  \n",
      "Gravedad en Ganímedes: 1.4300000000000002 m/s2  #f' permite operaciones.\n",
      "\n",
      "\n",
      "Datos de Gravedad sobre: Ganímedes\n",
      "-------------------------------------------------------------------------------\n",
      "Nombre del planeta: Marte \n",
      "Gravedad en Ganímedes: 0.00143 m/s2\n",
      "\n",
      "\n",
      "Datos de Gravedad sobre: Ganímedes\n",
      "-------------------------------------------------------------------------------\n",
      "Nombre del planeta: Marte \n",
      "Gravedad en Ganímedes: 1.4300000000000002 m/s2\n",
      "\n"
     ]
    }
   ],
   "source": [
    "#SOLUCION DE FER8a\n",
    "\n",
    "planeta = 'Marte '\n",
    "gravedad  = 0.00143\n",
    "nombre = 'Ganímedes'\n",
    "\n",
    "# Creamos el título\n",
    "title = f'datos de gravedad sobre {nombre}'\n",
    "\n",
    "# Creamos la plantilla\n",
    "hechos = f\"\"\"{'-'*80} #Multiplicar la salida de cádenas.\n",
    "Nombre del planeta: {planeta} \n",
    "Gravedad en {nombre}: {gravedad * 1000} m/s2  #f' permite operaciones.\n",
    "\"\"\"\n",
    "\n",
    "# Unión de ambas cadenas\n",
    "template = f\"\"\"{title.title()} # ¿Cuál es la diff de poner .tittle? Investigar.\n",
    "{hechos} # Usar f' y poner ambas variables. No el +\n",
    "\"\"\" \n",
    "print(hechos)\n",
    "\n",
    "# Nuevos datos muestra\n",
    "planeta = 'Marte '\n",
    "gravedad  = 0.00143\n",
    "nombre = 'Ganímedes'\n",
    "\n",
    "# Comprobamos la plantilla\n",
    "print(hechos)\n",
    "\n",
    "new_template = \"\"\"\n",
    "Datos de Gravedad sobre: {nombre}\n",
    "-------------------------------------------------------------------------------\n",
    "Nombre del planeta: {planeta}\n",
    "Gravedad en {nombre}: {gravedad} m/s2\n",
    "\"\"\"\n",
    "print(new_template.format(nombre=nombre, planeta=planeta, gravedad=gravedad))\n",
    "#Re asignación de variables pero con .format\n",
    "# Pista: print(nueva_plantilla.format(variables))\n",
    "print(new_template.format(nombre=nombre, planeta=planeta, gravedad=gravedad*1000))\n",
    "\n"
   ]
  }
 ],
 "metadata": {
  "interpreter": {
   "hash": "14cd60ff961363a5ec117233f091ab3e1a0744f48fef698a8c122af614ed9190"
  },
  "kernelspec": {
   "display_name": "Python 3.10.2 64-bit",
   "language": "python",
   "name": "python3"
  },
  "language_info": {
   "codemirror_mode": {
    "name": "ipython",
    "version": 3
   },
   "file_extension": ".py",
   "mimetype": "text/x-python",
   "name": "python",
   "nbconvert_exporter": "python",
   "pygments_lexer": "ipython3",
   "version": "3.10.2"
  },
  "orig_nbformat": 4
 },
 "nbformat": 4,
 "nbformat_minor": 2
}
