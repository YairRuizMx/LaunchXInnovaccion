{
 "cells": [
  {
   "cell_type": "markdown",
   "metadata": {},
   "source": [
    "# Ejercicio 1\n",
    "Crear y usar listas de Python"
   ]
  },
  {
   "cell_type": "code",
   "execution_count": 9,
   "metadata": {},
   "outputs": [
    {
     "name": "stdout",
     "output_type": "stream",
     "text": [
      "Número de planetas en la galaxia: 7\n",
      "Número de planetas en la galaxia: 8\n",
      "El último planeta es: Plutón\n"
     ]
    }
   ],
   "source": [
    "planets = ['Mercurio','Venus','Tierra','Marte','Jupiter','Saturno','Neptuno']\n",
    "\n",
    "print(f'Número de planetas en la galaxia: ' + str(len(planets)))\n",
    "\n",
    "planets.append('Plutón')\n",
    "print(f'Número de planetas en la galaxia: ' + str(len(planets)))\n",
    "print(f'El último planeta es: ' + planets[-1])"
   ]
  },
  {
   "cell_type": "markdown",
   "metadata": {},
   "source": [
    "# Ejercicio 2\n",
    "Trabajando con datos de una lista"
   ]
  },
  {
   "cell_type": "code",
   "execution_count": 7,
   "metadata": {},
   "outputs": [
    {
     "name": "stdout",
     "output_type": "stream",
     "text": [
      "Planetas que están más cercanos al Sol que Tierra\n",
      "['Mercurio', 'Venus']\n",
      "Planetas que están más lejanos al Sol que Tierra\n",
      "['Marte', 'Jupiter', 'Saturno', 'Neptuno']\n"
     ]
    }
   ],
   "source": [
    "planets = ['Mercurio','Venus','Tierra','Marte','Jupiter','Saturno','Neptuno']\n",
    "\n",
    "planetaSolicitado = input('Ingresa el nombre de un planeta (Empezando por Mayuscula): ')\n",
    "indiceSolicitado = planets.index(planetaSolicitado)\n",
    "\n",
    "#Planetas mas cercanos al Sol que el solicitado.\n",
    "print(\"Planetas que están más cercanos al Sol que \" + str(planetaSolicitado))\n",
    "print(planets[0:indiceSolicitado])\n",
    "\n",
    "#Planetas mas lejos al Sol que el solicitado.\n",
    "print(\"Planetas que están más lejanos al Sol que \" + str(planetaSolicitado))\n",
    "print(planets[indiceSolicitado+1:])"
   ]
  }
 ],
 "metadata": {
  "interpreter": {
   "hash": "14cd60ff961363a5ec117233f091ab3e1a0744f48fef698a8c122af614ed9190"
  },
  "kernelspec": {
   "display_name": "Python 3.10.2 64-bit",
   "language": "python",
   "name": "python3"
  },
  "language_info": {
   "codemirror_mode": {
    "name": "ipython",
    "version": 3
   },
   "file_extension": ".py",
   "mimetype": "text/x-python",
   "name": "python",
   "nbconvert_exporter": "python",
   "pygments_lexer": "ipython3",
   "version": "3.10.2"
  },
  "orig_nbformat": 4
 },
 "nbformat": 4,
 "nbformat_minor": 2
}
