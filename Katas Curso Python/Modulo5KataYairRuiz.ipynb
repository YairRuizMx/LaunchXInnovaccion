{
 "cells": [
  {
   "cell_type": "markdown",
   "metadata": {},
   "source": [
    "# Ejercicio 1\n",
    "Distancia entre dos planetas."
   ]
  },
  {
   "cell_type": "code",
   "execution_count": 8,
   "metadata": {},
   "outputs": [
    {
     "name": "stdout",
     "output_type": "stream",
     "text": [
      "Distancia en Kilometros: 628949330\n",
      "Distancia en Millas: 390577533.93\n"
     ]
    }
   ],
   "source": [
    "distanciaPlaneta1 = 149597870\n",
    "distanciaPlaneta2 = 778547200\n",
    "\n",
    "distanciaKm = (distanciaPlaneta2 - distanciaPlaneta1)\n",
    "print('Distancia en Kilometros: ' + str(distanciaKm))\n",
    "\n",
    "distanciaMillas = distanciaKm * 0.621\n",
    "print('Distancia en Millas: ' + str(distanciaMillas))"
   ]
  },
  {
   "cell_type": "markdown",
   "metadata": {},
   "source": [
    "# Ejercicio 2"
   ]
  },
  {
   "cell_type": "code",
   "execution_count": 11,
   "metadata": {},
   "outputs": [
    {
     "name": "stdout",
     "output_type": "stream",
     "text": [
      "Distancia en Km: 2540\n",
      "Distancia en milla: 1573.55\n"
     ]
    }
   ],
   "source": [
    "planeta1 = input('Ingresa la distancia entre el sol y el primer planeta en KM: ')\n",
    "planeta2 = input('Ingresa la distancia entre el sol y el segundo planeta en KM: ')\n",
    "\n",
    "print('Distancia en Km: ' + str(abs(int(planeta2)-int(planeta1))))\n",
    "print('Distancia en Millas: ' + str(abs((int(planeta2)-int(planeta1)*0.621))))\n"
   ]
  }
 ],
 "metadata": {
  "interpreter": {
   "hash": "14cd60ff961363a5ec117233f091ab3e1a0744f48fef698a8c122af614ed9190"
  },
  "kernelspec": {
   "display_name": "Python 3.10.2 64-bit",
   "language": "python",
   "name": "python3"
  },
  "language_info": {
   "codemirror_mode": {
    "name": "ipython",
    "version": 3
   },
   "file_extension": ".py",
   "mimetype": "text/x-python",
   "name": "python",
   "nbconvert_exporter": "python",
   "pygments_lexer": "ipython3",
   "version": "3.10.2"
  },
  "orig_nbformat": 4
 },
 "nbformat": 4,
 "nbformat_minor": 2
}
