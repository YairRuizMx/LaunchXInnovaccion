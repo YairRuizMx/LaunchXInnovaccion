{
 "cells": [
  {
   "cell_type": "markdown",
   "metadata": {},
   "source": [
    "# Ejercicio: Uso de funciones en Python\n",
    "Trabajar con argumentos en funciones"
   ]
  },
  {
   "cell_type": "code",
   "execution_count": 6,
   "metadata": {},
   "outputs": [
    {
     "name": "stdout",
     "output_type": "stream",
     "text": [
      "Combustible promedio: 80.0 litros\n",
      "    Combustible en tanque 1: 70 litros\n",
      "    Combustible en tanque 2: 50 litros\n",
      "    Combustible en tanque 3: 120 litros\n"
     ]
    }
   ],
   "source": [
    "def crearInforme(tanque1,tanque2,tanque3):\n",
    "    return f\"\"\"Combustible promedio: {average([tanque1,tanque2,tanque3])} litros\n",
    "    Combustible en tanque 1: {tanque1} litros\n",
    "    Combustible en tanque 2: {tanque2} litros\n",
    "    Combustible en tanque 3: {tanque3} litros\"\"\"\n",
    "\n",
    "#def combustiblePromedio (tanque1,tanque2,tanque3):\n",
    "#    return (tanque1+tanque2+tanque3) / 3 #Mi solución.\n",
    "\n",
    "def average(values):\n",
    "    total = sum(values)\n",
    "    number_of_items = len(values)\n",
    "    return total / number_of_items\n",
    "\n",
    "print(crearInforme(70,50,120))\n",
    "\n",
    "\n"
   ]
  },
  {
   "cell_type": "markdown",
   "metadata": {},
   "source": [
    "# Ejercicio 2:\n"
   ]
  },
  {
   "cell_type": "code",
   "execution_count": 14,
   "metadata": {},
   "outputs": [
    {
     "name": "stdout",
     "output_type": "stream",
     "text": [
      "Reporte preciso de la misión:\n",
      "    Hora de prelanzamiento: 16:00 h\n",
      "    Tiempo de vuelo: 120\n",
      "    Destino: Luna\n",
      "    Tanque externo: 78%\n",
      "    Tanque interno: 100%\n",
      "Reporte preciso de la misión:\n",
      "    Hora de prelanzamiento: 15:00\n",
      "    Tiempo de vuelo: 230\n",
      "    Destino: Luna\n",
      "    Combustible en tanques: 190\n",
      "\tCombustible en tanque externo: 100\n",
      "\tCombustible en tanque interno: 15\n",
      "\tCombustible en tanque reserva: 75\n",
      "\n"
     ]
    }
   ],
   "source": [
    "# Función con un informe preciso de la misión. Considera hora de prelanzamiento, \n",
    "# tiempo de vuelo, destino, tanque externo y tanque interno\n",
    "\n",
    "def informePreciso(horaPrelanzamiento,tiempoVuelo,destino,tanqueExterno,tanqueInterno):\n",
    "    return f\"\"\"Reporte preciso de la misión:\n",
    "    Hora de prelanzamiento: {horaPrelanzamiento}\n",
    "    Tiempo de vuelo: {tiempoVuelo}\n",
    "    Destino: {destino}\n",
    "    Tanque externo: {tanqueExterno}%\n",
    "    Tanque interno: {tanqueInterno}%\"\"\"\n",
    "\n",
    "print(informePreciso('16:00 h',120,'Luna',78,100))\n",
    "\n",
    "def informeChido(horaPrelanzamiento,destinoo,*tiempo,**tanques):\n",
    "    informeChidoText = f\"\"\"Reporte preciso de la misión:\n",
    "    Hora de prelanzamiento: {horaPrelanzamiento}\n",
    "    Tiempo de vuelo: {sum(tiempo)}\n",
    "    Destino: {destinoo}\n",
    "    Combustible en tanques: {sum(tanques.values())}\\n\"\"\"\n",
    "\n",
    "    for tanque, combustible in tanques.items():\n",
    "        informeChidoText += f'\\tCombustible en tanque {tanque}: {combustible}\\n'\n",
    "    \n",
    "    return informeChidoText\n",
    "\n",
    "print(informeChido('15:00','Luna',5,10,58,47,10,100,externo=100,interno=15,reserva=75))\n"
   ]
  }
 ],
 "metadata": {
  "interpreter": {
   "hash": "14cd60ff961363a5ec117233f091ab3e1a0744f48fef698a8c122af614ed9190"
  },
  "kernelspec": {
   "display_name": "Python 3.10.2 64-bit",
   "language": "python",
   "name": "python3"
  },
  "language_info": {
   "codemirror_mode": {
    "name": "ipython",
    "version": 3
   },
   "file_extension": ".py",
   "mimetype": "text/x-python",
   "name": "python",
   "nbconvert_exporter": "python",
   "pygments_lexer": "ipython3",
   "version": "3.10.2"
  },
  "orig_nbformat": 4
 },
 "nbformat": 4,
 "nbformat_minor": 2
}
